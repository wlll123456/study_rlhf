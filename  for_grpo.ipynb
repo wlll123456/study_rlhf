{
 "cells": [
  {
   "cell_type": "markdown",
   "metadata": {},
   "source": [
    "# 手撕grpo\n",
    "\n",
    "截图素材：https://zhuanlan.zhihu.com/p/24816372882 https://zhuanlan.zhihu.com/p/657693775\n",
    "\n",
    "这个notebook的reward由规则给出，比如format，以及accury\n",
    "\n",
    "只有actor模型，ref模型，没有critic模型\n",
    "\n",
    "同时reward是基于规则给出的，所以没有rēward模型"
   ]
  },
  {
   "cell_type": "markdown",
   "metadata": {},
   "source": [
    "定义参数配置"
   ]
  },
  {
   "cell_type": "code",
   "execution_count": 1,
   "metadata": {},
   "outputs": [],
   "source": [
    "vocab_size = 50257\n",
    "hidden_size = 128\n",
    "intermediate_size = 256\n",
    "num_hidden_layers = 2\n",
    "num_attention_heads = 4\n",
    "batch_size = 2\n",
    "length_x = 5\n",
    "max_new_tokens = 5\n",
    "grpo_samples_nums = 2 # GRPO 采样数量，有的框架会把一张卡分给vllm，来让vllm加速生成"
   ]
  },
  {
   "cell_type": "markdown",
   "metadata": {},
   "source": [
    "初始化ref 和actor模型"
   ]
  },
  {
   "cell_type": "code",
   "execution_count": 3,
   "metadata": {},
   "outputs": [],
   "source": [
    "import torch\n",
    "from transformers import GPT2Config, GPT2LMHeadModel\n",
    "\n",
    "torch.manual_seed(1)\n",
    "\n",
    "# 定义参数\n",
    "vocab_size = 10\n",
    "hidden_size = 128\n",
    "intermediate_size = 256\n",
    "num_hidden_layers = 2\n",
    "num_attention_heads = 4\n",
    "\n",
    "# 加载模型配置\n",
    "config = GPT2Config(\n",
    "    vocab_size=vocab_size,\n",
    "    n_embd=hidden_size,\n",
    "    n_inner=intermediate_size,\n",
    "    n_layer=num_hidden_layers,\n",
    "    n_head=num_attention_heads\n",
    ")\n",
    "\n",
    "# 初始化 GPT - 2 模型\n",
    "model = GPT2LMHeadModel(config)\n",
    "model_ref = GPT2LMHeadModel(config)\n",
    "model.config.pad_token_id = model.config.eos_token_id\n",
    "model_ref.config.pad_token_id = model_ref.config.eos_token_id"
   ]
  },
  {
   "cell_type": "markdown",
   "metadata": {},
   "source": [
    "定义奖励函数\n",
    "\n",
    "参考https://huggingface.co/docs/trl/main/en/grpo_trainer#looking-deeper-into-the-grpo-method"
   ]
  },
  {
   "cell_type": "code",
   "execution_count": 15,
   "metadata": {},
   "outputs": [],
   "source": [
    "def reward_func_len(completions, **kwargs):\n",
    "    \"\"\"Reward function that gives higher scores to longer completions.\"\"\"\n",
    "    return [float(len(completion)) for completion in completions]"
   ]
  },
  {
   "cell_type": "code",
   "execution_count": 17,
   "metadata": {},
   "outputs": [
    {
     "name": "stdout",
     "output_type": "stream",
     "text": [
      "[6.0, 12.0]\n"
     ]
    }
   ],
   "source": [
    "prompts = [\"The sky is\", \"The sun is\"]\n",
    "completions = [\" blue.\", \" in the sky.\"]\n",
    "print(reward_func_len(prompts=prompts, completions=completions))"
   ]
  },
  {
   "cell_type": "code",
   "execution_count": 27,
   "metadata": {},
   "outputs": [
    {
     "data": {
      "text/plain": [
       "[1.0, 0.0]"
      ]
     },
     "execution_count": 27,
     "metadata": {},
     "output_type": "execute_result"
    }
   ],
   "source": [
    "import re\n",
    "\n",
    "def format_reward_func(completions, **kwargs):\n",
    "    \"\"\"Reward function that checks if the completion has a specific format.\"\"\"\n",
    "    pattern = r\"^<think>.*?</think><answer>.*?</answer>$\"\n",
    "    completion_contents = [completion[0][\"content\"] for completion in completions]\n",
    "    matches = [re.match(pattern, content) for content in completion_contents]\n",
    "    return [1.0 if match else 0.0 for match in matches]\n",
    "\n",
    "prompts = [\n",
    "    [{\"role\": \"assistant\", \"content\": \"What is the result of (1 + 2) * 4?\"}],\n",
    "    [{\"role\": \"assistant\", \"content\": \"What is the result of (3 + 1) * 2?\"}],\n",
    "]\n",
    "completions = [\n",
    "    [{\"role\": \"assistant\", \"content\": \"<think>The sum of 1 and 2 is 3, which we multiply by 4 to get 12.</think><answer>(1 + 2) * 4 = 12</answer>\"}],\n",
    "    [{\"role\": \"assistant\", \"content\": \"The sum of 3 and 1 is 4, which we multiply by 2 to get 8. So (3 + 1) * 2 = 8.\"}],\n",
    "]\n",
    "format_reward_func(prompts=prompts, completions=completions)"
   ]
  },
  {
   "cell_type": "code",
   "execution_count": 7,
   "metadata": {},
   "outputs": [
    {
     "data": {
      "text/plain": [
       "[1.0, 0.0]"
      ]
     },
     "execution_count": 7,
     "metadata": {},
     "output_type": "execute_result"
    }
   ],
   "source": [
    "import re\n",
    "\n",
    "def reward_func(completions, ground_truth, **kwargs):\n",
    "    # Regular expression to capture content inside \\boxed{}\n",
    "    matches = [re.search(r\"\\\\boxed\\{(.*?)\\}\", completion) for completion in completions]\n",
    "    contents = [match.group(1) if match else \"\" for match in matches]\n",
    "    # Reward 1 if the content is the same as the ground truth, 0 otherwise\n",
    "    return [1.0 if c == gt else 0.0 for c, gt in zip(contents, ground_truth)]\n",
    "\n",
    "prompts = [\"Problem: Solve the equation $2x + 3 = 7$. Solution:\", \"Problem: Solve the equation $3x - 5 = 10$.\"]\n",
    "completions = [r\" The solution is \\boxed{2}.\", r\" The solution is \\boxed{6}.\"]\n",
    "ground_truth = [\"2\", \"5\"]\n",
    "reward_func(prompts=prompts, completions=completions, ground_truth=ground_truth)"
   ]
  },
  {
   "cell_type": "markdown",
   "metadata": {},
   "source": [
    "以下是使用 GRPOTrainer 中多个奖励函数的示例。在这个例子中，我们定义了两个特定任务的奖励函数： math_reward_func 和 coding_reward_func 。 math_reward_func 奖励基于正确性的数学问题，而 coding_reward_func 奖励基于解决方案是否工作的编程问题。\n",
    "\n",
    "不过check_math_solution 以及 test_code_solution要自己写"
   ]
  },
  {
   "cell_type": "code",
   "execution_count": 9,
   "metadata": {},
   "outputs": [
    {
     "name": "stdout",
     "output_type": "stream",
     "text": [
      "[2025-03-31 22:07:42,665] [INFO] [real_accelerator.py:203:get_accelerator] Setting ds_accelerator to mps (auto detect)\n"
     ]
    },
    {
     "name": "stderr",
     "output_type": "stream",
     "text": [
      "W0331 22:07:42.977000 8626851648 torch/distributed/elastic/multiprocessing/redirects.py:28] NOTE: Redirects are currently not supported in Windows or MacOs.\n"
     ]
    }
   ],
   "source": [
    "from datasets import Dataset\n",
    "from trl import GRPOTrainer\n",
    "\n",
    "# Define a dataset that contains both math and coding problems\n",
    "dataset = Dataset.from_list(\n",
    "    [\n",
    "        {\"prompt\": \"What is 2+2?\", \"task\": \"math\"},\n",
    "        {\"prompt\": \"Write a function that returns the sum of two numbers.\", \"task\": \"code\"},\n",
    "        {\"prompt\": \"What is 3*4?\", \"task\": \"math\"},\n",
    "        {\"prompt\": \"Write a function that returns the product of two numbers.\", \"task\": \"code\"},\n",
    "    ]\n",
    ")\n",
    "\n",
    "# Math-specific reward function\n",
    "def math_reward_func(prompts, completions, task, **kwargs):\n",
    "    rewards = []\n",
    "    for prompt, completion, t in zip(prompts, completions, task):\n",
    "        if t == \"math\":\n",
    "            # Calculate math-specific reward\n",
    "            correct = check_math_solution(prompt, completion)\n",
    "            reward = 1.0 if correct else -1.0\n",
    "            rewards.append(reward)\n",
    "        else:\n",
    "            # Return None for non-math tasks\n",
    "            rewards.append(None)\n",
    "    return rewards\n",
    "\n",
    "# Coding-specific reward function\n",
    "def coding_reward_func(prompts, completions, task, **kwargs):\n",
    "    rewards = []\n",
    "    for prompt, completion, t in zip(prompts, completions, task):\n",
    "        if t == \"coding\":\n",
    "            # Calculate coding-specific reward\n",
    "            works = test_code_solution(prompt, completion)\n",
    "            reward = 1.0 if works else -1.0\n",
    "            rewards.append(reward)\n",
    "        else:\n",
    "            # Return None for non-coding tasks\n",
    "            rewards.append(None)\n",
    "    return rewards\n",
    "\n",
    "# # Use both task-specific reward functions\n",
    "# trainer = GRPOTrainer(\n",
    "#     model=\"Qwen/Qwen2-0.5B-Instruct\",\n",
    "#     reward_funcs=[math_reward_func, coding_reward_func],\n",
    "#     train_dataset=dataset,\n",
    "# )\n",
    "\n",
    "# trainer.train()"
   ]
  },
  {
   "cell_type": "markdown",
   "metadata": {},
   "source": [
    "## grpo把critic model使用基于规定的优势函数计算来替换掉了\n",
    "\n",
    "可以看到我们需要先准备一批oi才能计算出优势函数"
   ]
  },
  {
   "attachments": {
    "GRPO.png": {
     "image/png": "[encoded data removed]"
    }
   },
   "cell_type": "markdown",
   "metadata": {},
   "source": [
    "![GRPO.png](attachment:GRPO.png)"
   ]
  },
  {
   "cell_type": "markdown",
   "metadata": {},
   "source": [
    "一般情况下，比如trl是可以通过vllm来生成一批数据，我们复制一波输入然后model generate一批就行，在此刻就随便搞一波就行，"
   ]
  },
  {
   "cell_type": "code",
   "execution_count": 10,
   "metadata": {},
   "outputs": [],
   "source": [
    "def get_response(model, prompt, max_new_tokens):\n",
    "    inputs = {'input_ids': prompt}  # ignore mask，好像不需要mask\n",
    "    y = model.generate(**inputs,\n",
    "                       max_new_tokens=max_new_tokens,\n",
    "                       # forced_eos_token_id=True\n",
    "                       )\n",
    "    return y"
   ]
  },
  {
   "cell_type": "markdown",
   "metadata": {},
   "source": [
    "这个notebook真实数据不好写（带think以及answer标签），就写个大概"
   ]
  },
  {
   "cell_type": "code",
   "execution_count": 12,
   "metadata": {},
   "outputs": [],
   "source": [
    "input_x = [{\"prompt\": \"What is 2+2?\", \"task\": \"math\"},\n",
    "        {\"prompt\": \"Write a function that returns the sum of two numbers.\", \"task\": \"code\"},\n",
    "        {\"prompt\": \"What is 3*4?\", \"task\": \"math\"},\n",
    "        {\"prompt\": \"Write a function that returns the product of two numbers.\", \"task\": \"code\"}]"
   ]
  },
  {
   "cell_type": "markdown",
   "metadata": {},
   "source": [
    "调用一个get_response，生成一批output_x"
   ]
  },
  {
   "cell_type": "code",
   "execution_count": 21,
   "metadata": {},
   "outputs": [],
   "source": [
    "# 假设模型生成的response\n",
    "output_x = [\"<think>The sum of 1 and 2 is 3, which we multiply by 4 to get 12.</think><answer>(1 + 2) * 4 = 12</answer>\",\n",
    "            \"The sum of 3 and 1 is 4, which we multiply by 2 to get 8. So (3 + 1) * 2 = 8.\",\n",
    "            \"<think>The product of 3 and 4 is 12.</think><answer>3 * 4 = 12</answer>\",\n",
    "            \"The product of 3 and 4 is 12. So 3 * 4 = 12.\"]"
   ]
  },
  {
   "cell_type": "markdown",
   "metadata": {},
   "source": [
    "我们现在有一组数据后就要得到reward"
   ]
  },
  {
   "cell_type": "code",
   "execution_count": 29,
   "metadata": {},
   "outputs": [],
   "source": [
    "len_rewards = reward_func_len(completions=output_x)"
   ]
  },
  {
   "cell_type": "code",
   "execution_count": 30,
   "metadata": {},
   "outputs": [],
   "source": [
    "def reward_func_format(completions, **kwargs):\n",
    "    \"\"\"Reward function that checks if the completion has a specific format.\"\"\"\n",
    "    pattern = r\"^<think>.*?</think><answer>.*?</answer>$\"\n",
    "    completion_contents = [completion for completion in completions]\n",
    "    matches = [re.match(pattern, content) for content in completion_contents]\n",
    "    return [1.0 if match else 0.0 for match in matches]\n",
    "format_rewards = reward_func_format(completions=output_x)"
   ]
  },
  {
   "cell_type": "markdown",
   "metadata": {},
   "source": [
    "对每组奖励进行计算优势函数\n"
   ]
  },
  {
   "cell_type": "markdown",
   "metadata": {},
   "source": [
    "$$\\hat{A}_{i,t} = \\frac{r_i - \\text{mean}(\\mathbf{r})}{\\text{std}(\\mathbf{r})}$$ "
   ]
  },
  {
   "cell_type": "code",
   "execution_count": 31,
   "metadata": {},
   "outputs": [
    {
     "name": "stdout",
     "output_type": "stream",
     "text": [
      "tensor([ 1.2379,  0.0982, -0.1375, -1.1986])\n",
      "tensor([ 0.8513, -0.8513,  0.8513, -0.8513])\n"
     ]
    }
   ],
   "source": [
    "def grpo_advantage(rewards):\n",
    "    epsilon = 0.01\n",
    "    rewards = torch.tensor(rewards) \n",
    "    A = (rewards - rewards.mean()) / (rewards.std() + epsilon)\n",
    "    return A\n",
    "\n",
    "advantage_len = grpo_advantage(len_rewards)\n",
    "print(advantage_len)\n",
    "advantage_format = grpo_advantage(format_rewards)\n",
    "print(advantage_format)"
   ]
  },
  {
   "cell_type": "markdown",
   "metadata": {},
   "source": [
    "剩下的流程其实与ppo相同，不太想写了"
   ]
  },
  {
   "cell_type": "markdown",
   "metadata": {},
   "source": [
    "$$\\mathbb{D}_{\\text{KL}}\\left[\\pi_\\theta \\|\\pi_{\\text{ref}}\\right] = \\frac{\\pi_{\\text{ref}}(o_{i,t} \\mid q, o_{i,<t})}{\\pi_\\theta(o_{i,t} \\mid q, o_{i,<t})} - \\log \\frac{\\pi_{\\text{ref}}(o_{i,t} \\mid q, o_{i,<t})}{\\pi_\\theta(o_{i,t} \\mid q, o_{i,<t})} - 1,\n",
    "$$"
   ]
  },
  {
   "cell_type": "code",
   "execution_count": 32,
   "metadata": {},
   "outputs": [],
   "source": [
    "prompt = torch.randint(0, vocab_size, (batch_size, length_x))\n",
    "response = torch.randint(0, vocab_size, (batch_size, length_x + max_new_tokens))"
   ]
  },
  {
   "cell_type": "code",
   "execution_count": 33,
   "metadata": {},
   "outputs": [
    {
     "name": "stdout",
     "output_type": "stream",
     "text": [
      "tensor([[0., 0., 0., 0., 0., 1., 1., 1., 1., 1.],\n",
      "        [0., 0., 0., 0., 0., 1., 1., 1., 1., 1.]])\n"
     ]
    }
   ],
   "source": [
    "attention_mask = torch.ones(batch_size, length_x+max_new_tokens)\n",
    "attention_mask[:, :length_x] = 0\n",
    "print(attention_mask)"
   ]
  },
  {
   "cell_type": "code",
   "execution_count": 34,
   "metadata": {},
   "outputs": [],
   "source": [
    "import torch.nn.functional as F\n",
    "\n",
    "def get_logits(model, input_ids):\n",
    "    # 得到logits\n",
    "    outputs = model(input_ids=input_ids)\n",
    "    logits = outputs.logits\n",
    "    return logits\n",
    "\n",
    "def get_logprobs(model, response, attention_mask):\n",
    "    # 得到logprobs\n",
    "    logits = get_logits(model, response)\n",
    "    # F.log_softmax() 是先进行softmax运算然后再取对数（log）\n",
    "    all_token_logprobs = F.log_softmax(logits, dim=-1)\n",
    "    # 使用torch.gather() 从logprobs中收集response的值\n",
    "    gathered = torch.gather(all_token_logprobs, 2, response.unsqueeze(2))\n",
    "    # 去掉最后一个维度\n",
    "    response_logprobs = gathered.squeeze(-1)\n",
    "    return response_logprobs"
   ]
  },
  {
   "cell_type": "code",
   "execution_count": 36,
   "metadata": {},
   "outputs": [
    {
     "data": {
      "text/plain": [
       "tensor([[-1.6183, -1.3673, -1.5195, -1.5547, -1.4089, -1.3429, -1.2517, -1.3878,\n",
       "         -1.3432, -1.1901],\n",
       "        [-1.8480, -1.5877, -1.3003, -1.3325, -1.6356, -1.7515, -1.4456, -1.4905,\n",
       "         -1.2200, -1.4700]], grad_fn=<SqueezeBackward1>)"
      ]
     },
     "execution_count": 36,
     "metadata": {},
     "output_type": "execute_result"
    }
   ],
   "source": [
    "get_logprobs(model, response, attention_mask)"
   ]
  },
  {
   "cell_type": "code",
   "execution_count": 37,
   "metadata": {},
   "outputs": [
    {
     "data": {
      "text/plain": [
       "tensor([[2.6098e-02, 4.7684e-05, 4.6487e-03, 1.6298e-03, 3.6643e-03, 6.2504e-03,\n",
       "         2.8181e-04, 2.8575e-02, 2.9539e-02, 3.2508e-02],\n",
       "        [1.3051e-02, 1.5891e-04, 4.1568e-02, 7.6652e-05, 1.7810e-04, 1.0834e-01,\n",
       "         4.0960e-04, 4.0464e-02, 2.9019e-02, 7.3563e-02]],\n",
       "       grad_fn=<SubBackward0>)"
      ]
     },
     "execution_count": 37,
     "metadata": {},
     "output_type": "execute_result"
    }
   ],
   "source": [
    "def grpo_kl(pi, pi_ref):\n",
    "    x1 = pi_ref.exp() / pi.exp()\n",
    "    x2 = pi_ref - pi\n",
    "    return x1 - x2 - 1\n",
    "\n",
    "pi = get_logprobs(model, response, attention_mask)\n",
    "pi_ref = get_logprobs(model_ref, response, attention_mask)\n",
    "grpo_kl(pi, pi_ref)"
   ]
  },
  {
   "cell_type": "markdown",
   "metadata": {},
   "source": [
    "loss\n",
    "\n",
    "$$\n",
    "\\mathcal{L}_{\\text{GRPO}}(\\theta) = - \\frac{1}{G} \\sum_{i=1}^G \\frac{1}{|o_i|} \\sum_{t=1}^{|o_i|} \\left[ \\min \\left( \\frac{\\pi_\\theta(o_{i,t} \\mid q, o_{i,< t})}{\\pi_{\\theta_{\\text{old}}}(o_{i,t} \\mid q, o_{i,< t})} \\hat{A}_{i,t}, \\, \\text{clip}\\left( \\frac{\\pi_\\theta(o_{i,t} \\mid q, o_{i,< t})}{\\pi_{\\theta_{\\text{old}}}(o_{i,t} \\mid q, o_{i,< t})}, 1 - \\epsilon, 1 + \\epsilon \\right) \\hat{A}_{i,t} \\right) - \\beta \\mathbb{D}_{\\text{KL}}\\left[\\pi_\\theta \\| \\pi_{\\text{ref}}\\right] \\right],\n",
    "$$"
   ]
  },
  {
   "attachments": {
    "GRPO-loss.png": {
     "image/png": "[encoded data removed]"
    }
   },
   "cell_type": "markdown",
   "metadata": {},
   "source": [
    "![GRPO-loss.png](attachment:GRPO-loss.png)"
   ]
  },
  {
   "cell_type": "markdown",
   "metadata": {},
   "source": [
    "超参数\n",
    "\n",
    "epslion = 0.01\n",
    "\n",
    "beta = 0.1\n",
    "\n"
   ]
  },
  {
   "cell_type": "code",
   "execution_count": 57,
   "metadata": {},
   "outputs": [],
   "source": [
    "group_num, len_oi = pi.shape"
   ]
  },
  {
   "cell_type": "code",
   "execution_count": 58,
   "metadata": {},
   "outputs": [],
   "source": [
    "len_oi = len_oi - length_x"
   ]
  },
  {
   "cell_type": "code",
   "execution_count": 59,
   "metadata": {},
   "outputs": [
    {
     "data": {
      "text/plain": [
       "5"
      ]
     },
     "execution_count": 59,
     "metadata": {},
     "output_type": "execute_result"
    }
   ],
   "source": [
    "len_oi"
   ]
  },
  {
   "cell_type": "code",
   "execution_count": 60,
   "metadata": {},
   "outputs": [
    {
     "data": {
      "text/plain": [
       "tensor([5, 5])"
      ]
     },
     "execution_count": 60,
     "metadata": {},
     "output_type": "execute_result"
    }
   ],
   "source": [
    "len_oi = torch.tensor([len_oi] * group_num, dtype = torch.long)\n",
    "len_oi\n",
    "\n"
   ]
  },
  {
   "cell_type": "code",
   "execution_count": 61,
   "metadata": {},
   "outputs": [
    {
     "data": {
      "text/plain": [
       "tensor([[0., 0., 0., 0., 0., 1., 1., 1., 1., 1.],\n",
       "        [0., 0., 0., 0., 0., 1., 1., 1., 1., 1.]])"
      ]
     },
     "execution_count": 61,
     "metadata": {},
     "output_type": "execute_result"
    }
   ],
   "source": [
    "attention_mask"
   ]
  },
  {
   "cell_type": "code",
   "execution_count": 64,
   "metadata": {},
   "outputs": [],
   "source": [
    "epslion = 0.01\n",
    "beta = 0.01"
   ]
  },
  {
   "cell_type": "code",
   "execution_count": 65,
   "metadata": {},
   "outputs": [
    {
     "name": "stderr",
     "output_type": "stream",
     "text": [
      "/var/folders/_k/crvl81qd02z3lyvty3mgfwxw0000gn/T/ipykernel_52429/710462030.py:2: UserWarning: To copy construct from a tensor, it is recommended to use sourceTensor.clone().detach() or sourceTensor.clone().detach().requires_grad_(True), rather than torch.tensor(sourceTensor).\n",
      "  test_rewards = torch.tensor(len_rewards,dtype = torch.float)\n",
      "/var/folders/_k/crvl81qd02z3lyvty3mgfwxw0000gn/T/ipykernel_52429/1779594425.py:3: UserWarning: To copy construct from a tensor, it is recommended to use sourceTensor.clone().detach() or sourceTensor.clone().detach().requires_grad_(True), rather than torch.tensor(sourceTensor).\n",
      "  rewards = torch.tensor(rewards)\n"
     ]
    }
   ],
   "source": [
    "test_rewards = [100,66]\n",
    "test_rewards = torch.tensor(len_rewards,dtype = torch.float)\n",
    "advantage_test = grpo_advantage(test_rewards)"
   ]
  },
  {
   "cell_type": "code",
   "execution_count": 66,
   "metadata": {},
   "outputs": [],
   "source": [
    "advantage_test = advantage_test.unsqueeze(dim = 1) \n",
    "\n",
    "ratio = pi.exp() / pi_ref.exp()\n",
    "ratio_clip = torch.clamp(ratio, 1 - epslion, 1 + epslion)\n",
    "\n",
    "policy_gradient = torch.minimum(ratio * advantage_test , ratio_clip * advantage_test)\n",
    "kl = grpo_kl(pi, pi_ref)"
   ]
  },
  {
   "cell_type": "code",
   "execution_count": 68,
   "metadata": {},
   "outputs": [
    {
     "data": {
      "text/plain": [
       "tensor([[0.9900, 1.0098, 0.9900, 1.0100, 0.9900, 1.0100, 0.9900, 0.9900, 0.9900,\n",
       "         1.0100],\n",
       "        [0.9900, 0.9900, 1.0100, 0.9900, 1.0100, 0.9900, 1.0100, 0.9900, 1.0100,\n",
       "         0.9900]], grad_fn=<ClampBackward1>)"
      ]
     },
     "execution_count": 68,
     "metadata": {},
     "output_type": "execute_result"
    }
   ],
   "source": [
    "ratio_clip"
   ]
  },
  {
   "cell_type": "code",
   "execution_count": 67,
   "metadata": {},
   "outputs": [
    {
     "data": {
      "text/plain": [
       "tensor([[ 0.5672,  0.7138,  0.6428,  0.7139,  0.6496,  0.7139,  0.6903,  0.5616,\n",
       "          0.5596,  0.7139],\n",
       "        [-0.6997, -0.6997, -0.9569, -0.6997, -0.7203, -0.6997, -0.7274, -0.6997,\n",
       "         -0.9085, -0.6997]], grad_fn=<MinimumBackward0>)"
      ]
     },
     "execution_count": 67,
     "metadata": {},
     "output_type": "execute_result"
    }
   ],
   "source": [
    "policy_gradient"
   ]
  },
  {
   "cell_type": "code",
   "execution_count": 69,
   "metadata": {},
   "outputs": [
    {
     "data": {
      "text/plain": [
       "tensor([[2.6098e-02, 4.7684e-05, 4.6487e-03, 1.6298e-03, 3.6643e-03, 6.2504e-03,\n",
       "         2.8181e-04, 2.8575e-02, 2.9539e-02, 3.2508e-02],\n",
       "        [1.3051e-02, 1.5891e-04, 4.1568e-02, 7.6652e-05, 1.7810e-04, 1.0834e-01,\n",
       "         4.0960e-04, 4.0464e-02, 2.9019e-02, 7.3563e-02]],\n",
       "       grad_fn=<SubBackward0>)"
      ]
     },
     "execution_count": 69,
     "metadata": {},
     "output_type": "execute_result"
    }
   ],
   "source": [
    "kl"
   ]
  },
  {
   "cell_type": "code",
   "execution_count": 71,
   "metadata": {},
   "outputs": [
    {
     "data": {
      "text/plain": [
       "tensor([[ 0.0000,  0.0000,  0.0000,  0.0000,  0.0000,  0.7138,  0.6903,  0.5614,\n",
       "          0.5593,  0.7136],\n",
       "        [-0.0000, -0.0000, -0.0000, -0.0000, -0.0000, -0.7008, -0.7274, -0.7001,\n",
       "         -0.9087, -0.7005]], grad_fn=<MulBackward0>)"
      ]
     },
     "execution_count": 71,
     "metadata": {},
     "output_type": "execute_result"
    }
   ],
   "source": [
    "loss = (policy_gradient -  beta * kl) * attention_mask\n",
    "loss"
   ]
  },
  {
   "cell_type": "code",
   "execution_count": 72,
   "metadata": {},
   "outputs": [
    {
     "data": {
      "text/plain": [
       "tensor([[5],\n",
       "        [5]])"
      ]
     },
     "execution_count": 72,
     "metadata": {},
     "output_type": "execute_result"
    }
   ],
   "source": [
    "len_oi.unsqueeze(dim = 1)\n"
   ]
  },
  {
   "cell_type": "code",
   "execution_count": 73,
   "metadata": {},
   "outputs": [],
   "source": [
    "def grpo_loss(pi, pi_old, pi_ref, advantage, length_x, mask):\n",
    "    epslion = 0.01\n",
    "    beta = 0.01\n",
    "\n",
    "    advantage = advantage.unsqueeze(dim = 1) \n",
    "\n",
    "    ratio = pi.exp() / pi_old.exp()\n",
    "    ratio_clip = torch.clamp(ratio, 1 - epslion, 1 + epslion)\n",
    "\n",
    "    policy_gradient = torch.minimum(ratio * advantage , ratio_clip * advantage)\n",
    "    kl = grpo_kl(pi, pi_ref)\n",
    "\n",
    "    group_num, len_oi = pi.shape  \n",
    "    \n",
    "    len_oi = len_oi - length_x\n",
    "    len_oi = torch.tensor([len_oi] * group_num, dtype = torch.long)\n",
    "\n",
    "    loss = (policy_gradient -  beta * kl) * mask\n",
    "    loss = (- 1 / group_num ) * loss / len_oi.unsqueeze(dim = 1)\n",
    "    loss = loss.sum()\n",
    "\n",
    "    return loss\n"
   ]
  },
  {
   "cell_type": "code",
   "execution_count": 74,
   "metadata": {},
   "outputs": [
    {
     "data": {
      "text/plain": [
       "torch.Size([2, 10])"
      ]
     },
     "execution_count": 74,
     "metadata": {},
     "output_type": "execute_result"
    }
   ],
   "source": [
    "pi_logprob.shape"
   ]
  },
  {
   "cell_type": "markdown",
   "metadata": {},
   "source": [
    "因为response是自己定义的\n",
    "\n",
    "但之前的rewards是基于output_x的，所以需要转换\n",
    "\n",
    "随便设置一个rewards"
   ]
  },
  {
   "cell_type": "code",
   "execution_count": 75,
   "metadata": {},
   "outputs": [
    {
     "data": {
      "text/plain": [
       "tensor([[9, 2, 7, 8, 7, 5, 5, 9, 3, 3],\n",
       "        [4, 3, 8, 6, 8, 7, 6, 1, 6, 7]])"
      ]
     },
     "execution_count": 75,
     "metadata": {},
     "output_type": "execute_result"
    }
   ],
   "source": [
    "response"
   ]
  },
  {
   "cell_type": "code",
   "execution_count": 76,
   "metadata": {},
   "outputs": [
    {
     "data": {
      "text/plain": [
       "tensor([100.,  66.])"
      ]
     },
     "execution_count": 76,
     "metadata": {},
     "output_type": "execute_result"
    }
   ],
   "source": [
    "len_rewards"
   ]
  },
  {
   "cell_type": "code",
   "execution_count": 77,
   "metadata": {},
   "outputs": [],
   "source": [
    "len_rewards = [100,66]\n",
    "len_rewards = torch.tensor(len_rewards,dtype = torch.float)"
   ]
  },
  {
   "cell_type": "code",
   "execution_count": 78,
   "metadata": {},
   "outputs": [
    {
     "name": "stdout",
     "output_type": "stream",
     "text": [
      "tensor([[False, False, False, False, False, False, False, False, False, False],\n",
      "        [False, False, False, False, False, False, False, False, False, False]])\n"
     ]
    },
    {
     "name": "stderr",
     "output_type": "stream",
     "text": [
      "/var/folders/_k/crvl81qd02z3lyvty3mgfwxw0000gn/T/ipykernel_52429/1779594425.py:3: UserWarning: To copy construct from a tensor, it is recommended to use sourceTensor.clone().detach() or sourceTensor.clone().detach().requires_grad_(True), rather than torch.tensor(sourceTensor).\n",
      "  rewards = torch.tensor(rewards)\n"
     ]
    }
   ],
   "source": [
    "pi_logprob = get_logprobs(model, response, attention_mask)\n",
    "pi_old_logprob = get_logprobs(model, response, attention_mask)\n",
    "print(pi_logprob == pi_old_logprob)\n",
    "pi_ref_logprob = get_logprobs(model_ref, response, attention_mask)\n",
    "\n",
    "len_advantage = grpo_advantage(len_rewards)\n",
    "loss = grpo_loss(pi_logprob, pi_old_logprob, pi_ref_logprob, len_advantage, length_x, attention_mask)     # 应该是 [B]（然后才可以 unsqueeze 到 [B, 1]）"
   ]
  },
  {
   "cell_type": "code",
   "execution_count": 79,
   "metadata": {},
   "outputs": [
    {
     "data": {
      "text/plain": [
       "tensor(0.0352, grad_fn=<SumBackward0>)"
      ]
     },
     "execution_count": 79,
     "metadata": {},
     "output_type": "execute_result"
    }
   ],
   "source": [
    "loss"
   ]
  },
  {
   "cell_type": "markdown",
   "metadata": {},
   "source": [
    "## grpo采样"
   ]
  },
  {
   "cell_type": "code",
   "execution_count": null,
   "metadata": {},
   "outputs": [],
   "source": []
  }
 ],
 "metadata": {
  "kernelspec": {
   "display_name": "llm",
   "language": "python",
   "name": "python3"
  },
  "language_info": {
   "codemirror_mode": {
    "name": "ipython",
    "version": 3
   },
   "file_extension": ".py",
   "mimetype": "text/x-python",
   "name": "python",
   "nbconvert_exporter": "python",
   "pygments_lexer": "ipython3",
   "version": "3.11.8"
  }
 },
 "nbformat": 4,
 "nbformat_minor": 2
}
